{
  "nbformat": 4,
  "nbformat_minor": 0,
  "metadata": {
    "colab": {
      "name": "ARBITRAJE.ipynb",
      "provenance": [],
      "authorship_tag": "ABX9TyM/eZWk7wWEzWbfP3hecLKO",
      "include_colab_link": true
    },
    "kernelspec": {
      "name": "python3",
      "display_name": "Python 3"
    },
    "language_info": {
      "name": "python"
    }
  },
  "cells": [
    {
      "cell_type": "markdown",
      "metadata": {
        "id": "view-in-github",
        "colab_type": "text"
      },
      "source": [
        "<a href=\"https://colab.research.google.com/github/proyectosRVyderivados/cristina/blob/main/ARBITRAJE.ipynb\" target=\"_parent\"><img src=\"https://colab.research.google.com/assets/colab-badge.svg\" alt=\"Open In Colab\"/></a>"
      ]
    },
    {
      "cell_type": "markdown",
      "source": [
        "Ejemplo sencillo\n",
        "Puede ver la Hoja1 del documento de Excel.\n",
        "\n",
        "Supongamos dos fruterías donde venden el mismo tipo de manzana.\n",
        "\n",
        "Tienda A: precio 100 céntimos/Kg\n",
        "Tienda B: precio 160 céntimos/Kg\n",
        "Operamos bajo el supuesto de que en cada tienda podemos comprar o vender las manzanas.\n",
        "\n",
        "Estrategia de arbitraje:\n",
        "\n",
        "Compramos las manzanas en la tiena A, donde el precio es más barato\n",
        "Vendemos las manzanas en la tienda B, donde el precio es más caro\n",
        "La estrategia consiste en comprar el activo infravalorado y vender el activo sobrevalorado.\n",
        "\n",
        "De esta forma estaríamos ganando la diferencia.\n",
        "\n",
        "Introduciendo intereses\n",
        "Supongamos que el caso anterior de compraventa no se produce simultáneamente en el tiempo y que necesitamos financiar nuestra compra durante un tiempo.\n",
        "\n",
        "Duración de la operación: 1 año\n",
        "Tipo de interés: 10% anual\n",
        "En t=0 pedimos un prestamo de 100 para comprar en la tienda A\n",
        "En t=0 compramos las manzanas en la tienda A por 100\n",
        "En t=1 vendemos las manzanas en la tienda B por 160\n",
        "En t=1 devolvemos el préstamo 100*(1+0.1) = 110\n",
        "Beneficio obtenido:\n",
        "Método 1: 160-100-10 = 50 en t=1\n",
        "Método 2: 100-100+160-110 = 50 en t=1"
      ],
      "metadata": {
        "id": "0d_9Hxwkyjva"
      }
    },
    {
      "cell_type": "code",
      "source": [
        "pip install numpy-financial"
      ],
      "metadata": {
        "colab": {
          "base_uri": "https://localhost:8080/"
        },
        "id": "rtnqZ-P0yzE-",
        "outputId": "14493252-e694-419e-8063-e1a7d032a7a4"
      },
      "execution_count": 2,
      "outputs": [
        {
          "output_type": "stream",
          "name": "stdout",
          "text": [
            "Collecting numpy-financial\n",
            "  Downloading numpy_financial-1.0.0-py3-none-any.whl (14 kB)\n",
            "Requirement already satisfied: numpy>=1.15 in /usr/local/lib/python3.7/dist-packages (from numpy-financial) (1.21.5)\n",
            "Installing collected packages: numpy-financial\n",
            "Successfully installed numpy-financial-1.0.0\n"
          ]
        }
      ]
    },
    {
      "cell_type": "code",
      "execution_count": 3,
      "metadata": {
        "colab": {
          "base_uri": "https://localhost:8080/",
          "height": 130
        },
        "id": "OPZVAArryfTT",
        "outputId": "35c0f65f-d5ef-4e18-af73-5b5dfd86eca3"
      },
      "outputs": [
        {
          "output_type": "error",
          "ename": "SyntaxError",
          "evalue": "ignored",
          "traceback": [
            "\u001b[0;36m  File \u001b[0;32m\"<ipython-input-3-4f57458ca71e>\"\u001b[0;36m, line \u001b[0;32m1\u001b[0m\n\u001b[0;31m    pip install numpy-financial\u001b[0m\n\u001b[0m              ^\u001b[0m\n\u001b[0;31mSyntaxError\u001b[0m\u001b[0;31m:\u001b[0m invalid syntax\n"
          ]
        }
      ],
      "source": [
        "pip install numpy-financial\n",
        "import numpy_financial as npf\n",
        "import numpy as np             # la librería numpy nos permitirá trabajar con ndarrays\n",
        "\n",
        "# DATOS\n",
        "bonoA = [0, 10, 1010]\n",
        "bonoB = [0, 200, 1200]\n",
        "etti = [.05, .2]\n",
        "\n",
        "# PRECIO DE UN BONO CON LA ETTI\n",
        "def precio_etti(flujos, etti):\n",
        "    precio = 0\n",
        "    for i in range(1, len(bonoA)):\n",
        "        precio += flujos[i] * (1+etti[i-1])**-i\n",
        "    return precio\n",
        "\n",
        "# Precios de los Bonos A y B\n",
        "precioA = precio_etti(bonoA, etti)\n",
        "precioB = precio_etti(bonoB, etti)\n",
        "print(f\"El precio del bono A es {precioA}\")\n",
        "print(f\"El precio del bono B es {precioB}\")\n",
        "# Flujos de caja de los bonos A y B\n",
        "bonoA[0] = -precioA\n",
        "bonoB[0] = -precioB\n",
        "\n",
        "# Calcular la TIR de los bonos\n",
        "tirA = npf.irr(bonoA)\n",
        "tirB = npf.irr(bonoB)\n",
        "print(f\"La TIR del bono A es: {tirA:.4%}\")\n",
        "print(f\"La TIR del bono B es: {tirB:.4%}\")\n",
        "\n",
        "# Calcular la duración de Macaulay\n",
        "def duracion(bono):\n",
        "    tir =npf.irr(bono)\n",
        "    precio = 0\n",
        "    numerador = 0\n",
        "    for i in range(1, len(bonoA)):\n",
        "        precio += bono[i] * (1+tir)**-i\n",
        "        numerador += i * bono[i] * (1+tir)**-i\n",
        "    return numerador / precio\n",
        "\n",
        "print(f\"La duration del bono A es {duracion(bonoA)}\")\n",
        "print(f\"La duration del bono B es {duracion(bonoB)}\")\n",
        "\n",
        "# Nuevo precio del bono A en el mercado desequilibrado\n",
        "precioAprima = npf.npv(tirB, bonoA) + precioA # sumamos el antiguo precio de A ya que va en la posición [0] del array con signo negativo\n",
        "print(f\"El nuevo precio del bono A en el mercado desequilibrado es {precioAprima}\")\n",
        "bonoAprima =[-precioAprima, bonoA[1], bonoA[2]]\n",
        "\n",
        "# Bono C = B - 20A'\n",
        "# bonoC = bonoB - 20 * bonoAprima  # esto da error, necesitamos trabajar con ndarrays\n",
        "bonoB_arr = np.array(bonoB)\n",
        "bonoAprima_arr =np.array(bonoAprima)\n",
        "bonoC_arr = bonoB_arr - 20 * bonoAprima_arr\n",
        "print(f\"El bono C es {bonoC_arr}\")\n",
        "\n",
        "# Ajustamos con un préstamo\n",
        "prestamo = np.array([bonoC_arr[2] / (1+etti[1])**2, 0, -bonoC_arr[2]])\n",
        "print(f\"El préstamo es {prestamo}\")\n",
        "\n",
        "# Cartera Total\n",
        "total = bonoC_arr + prestamo\n",
        "print(f\"Cartera resultante del arbitraje {total}\")"
      ]
    }
  ]
}