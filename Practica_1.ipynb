{
  "nbformat": 4,
  "nbformat_minor": 0,
  "metadata": {
    "colab": {
      "name": "Untitled0.ipynb",
      "provenance": [],
      "authorship_tag": "ABX9TyON+ToMbsWUIkf8EDTA4421",
      "include_colab_link": true
    },
    "kernelspec": {
      "name": "python3",
      "display_name": "Python 3"
    },
    "language_info": {
      "name": "python"
    }
  },
  "cells": [
    {
      "cell_type": "markdown",
      "metadata": {
        "id": "view-in-github",
        "colab_type": "text"
      },
      "source": [
        "<a href=\"https://colab.research.google.com/github/proyectosRVyderivados/cristina/blob/main/Practica_1.ipynb\" target=\"_parent\"><img src=\"https://colab.research.google.com/assets/colab-badge.svg\" alt=\"Open In Colab\"/></a>"
      ]
    },
    {
      "cell_type": "markdown",
      "source": [
        "##Calcular el precio de un Bono a partir de la ETTI\n",
        "Adjunto archivo excel para poderlo consultar: [excel_ejercicio.xls](https://docs.google.com/spreadsheets/d/1RGO08gyE-Yp1PZC4Pfv4vsJc5O841Yl5/edit#gid=2121744058)\n"
      ],
      "metadata": {
        "id": "0YWGXTRuQnez"
      }
    },
    {
      "cell_type": "markdown",
      "source": [
        "Puede ver la Hoja1 del documento de Excel.\n",
        "Supongamos cinco bonos A, B, C, D y E:\n",
        "* Bono A:\n",
        "  * Precio = 96€\n",
        "  * Cupón = 0%\n",
        "  * n = 1 año\n",
        "  * Nominal = 100€\n",
        "* Bono B:\n",
        "  * Precio = 545€\n",
        "  * Cupón = 10%\n",
        "  * n = 2 años\n",
        "  * Nominal = 500€\n",
        "* Bono C:\n",
        "  * Precio = 1.030€\n",
        "  * Cupón = 0.7%\n",
        "  * n = 3 años\n",
        "  * Nominal = 1.000€\n",
        "* Bono D:\n",
        "  * Precio = 2.030€\n",
        "  * Cupón = 0.75%\n",
        "  * n = 4 años\n",
        "  * Nominal = 2.000€\n",
        "* Bono E:\n",
        "  * Precio = 3.920€\n",
        "  * Cupón = 0.75%\n",
        "  * n = 5 años\n",
        "  * Nominal = 4.000€\n",
        "\n",
        "Se pide:\n",
        "* Calcular el precio y la TIR del un bono X a partir de la ETTI. \n",
        "\n",
        "Por lo tanto dividiremos el ejercicio en dos fases:\n",
        "  * Fase 1: cálculo de la ETTI\n",
        "  * Fase 2: cálculo del precio y TIR de X.\n"
      ],
      "metadata": {
        "id": "G5kcUDLQSIdC"
      }
    },
    {
      "cell_type": "code",
      "source": [
        "pip install numpy-financial"
      ],
      "metadata": {
        "colab": {
          "base_uri": "https://localhost:8080/"
        },
        "id": "LNFt_s1pUdqC",
        "outputId": "e885b897-e857-4741-8235-03a1e53e217f"
      },
      "execution_count": 2,
      "outputs": [
        {
          "output_type": "stream",
          "name": "stdout",
          "text": [
            "Collecting numpy-financial\n",
            "  Downloading numpy_financial-1.0.0-py3-none-any.whl (14 kB)\n",
            "Requirement already satisfied: numpy>=1.15 in /usr/local/lib/python3.7/dist-packages (from numpy-financial) (1.21.5)\n",
            "Installing collected packages: numpy-financial\n",
            "Successfully installed numpy-financial-1.0.0\n"
          ]
        }
      ]
    },
    {
      "cell_type": "code",
      "execution_count": 4,
      "metadata": {
        "id": "9iZiPBfjQV5b",
        "colab": {
          "base_uri": "https://localhost:8080/"
        },
        "outputId": "cf5080b3-4d0c-4544-e09c-23a27d8c72a6"
      },
      "outputs": [
        {
          "output_type": "stream",
          "name": "stdout",
          "text": [
            "La TIR del bono A es: 4.17%\n",
            "La TIR del bono B es: 5.15%\n",
            "La TIR del bono C es: 5.88%\n",
            "La TIR del bono D es: 7.06%\n",
            "La TIR del bono E es: 8.00%\n",
            "\n",
            "La ETTI del año 1 es 4.17%\n",
            "La ETTI del año 2 es 5.20%\n",
            "La ETTI del año 3 es 5.95%\n",
            "La ETTI del año 4 es 7.26%\n",
            "La ETTI del año 5 es 8.33%\n"
          ]
        }
      ],
      "source": [
        "import numpy_financial as npf\n",
        "#Fase 1:\n",
        "\n",
        "bonoA = [0,100,0,0,0,0]     # inicialmente el flujo de caja inicial es cero\n",
        "bonoB = [0,50,550,0,0,0]\t\t\t\t\t\t\n",
        "bonoC = [0,70,70,1070,0,0]\t\t\t\t\t\n",
        "bonoD = [0,150,150,150,2150,0]\t\t\t\t\t\t\t\t\n",
        "bonoE=[0,300,300,300,300,4300]\n",
        "precioA= 96\n",
        "precioB= 545\n",
        "precioC= 1030\n",
        "precioD= 2030\n",
        "precioE= 3920\t\t\t\n",
        "\n",
        "# Calcular la TIR de los bonos\t\t\t\t\t\n",
        "bonoA[0] = -precioA\t\t\t\t\t\t\n",
        "bonoB[0] = -precioB\t\t\t\t\t\t\n",
        "bonoC[0] = -precioC\t\t\t\t\t\t\n",
        "bonoD[0] = -precioD\t\t\t\t\t\t\n",
        "bonoE[0]= -precioE\n",
        "\n",
        "tirA = npf.irr(bonoA)\n",
        "tirB = npf.irr(bonoB)\n",
        "tirC = npf.irr(bonoC)\t\t\t\t\t\t\n",
        "tirD = npf.irr(bonoD)\n",
        "tirE = npf.irr(bonoE)\n",
        "print(f\"La TIR del bono A es: {tirA:.2%}\")\n",
        "print(f\"La TIR del bono B es: {tirB:.2%}\")\n",
        "print(f\"La TIR del bono C es: {tirC:.2%}\")\n",
        "print(f\"La TIR del bono D es: {tirD:.2%}\")\n",
        "print(f\"La TIR del bono E es: {tirE:.2%}\")\n",
        "print()\n",
        "\n",
        "#Cálculo de la ETTI:\n",
        "etti_calculada = [0,0,0,0,0] \n",
        "etti_calculada[0] = tirA \n",
        "def calcula_etti(bono, etti_calculada):\n",
        "    n = [i for i, e in enumerate(bono) if e != 0][-1]\n",
        "    ultimo_flujo = bono[n]\n",
        "    precio = -bono[0]\n",
        "    fcid = 0 \n",
        "    for t in range(1,n): \n",
        "        fcid += bono[t] / (1+etti_calculada[t-1])**t\n",
        "    return (ultimo_flujo / (precio - fcid))**(1/n)-1\n",
        "\n",
        "r02 = calcula_etti(bonoB, etti_calculada) # calculamos r02 conocido el bono B y r01\n",
        "etti_calculada[1] = r02\n",
        "\n",
        "r03 = calcula_etti(bonoC, etti_calculada) # calculamos r03 conocido el bono C, r01 y r02\n",
        "etti_calculada[2] = r03\n",
        "\n",
        "r04 = calcula_etti(bonoD, etti_calculada) # calculamos r03 conocido el bono C, r01 y r02\n",
        "etti_calculada[3] = r04\n",
        "\n",
        "r05 = calcula_etti(bonoE, etti_calculada) # calculamos r03 conocido el bono C, r01 y r02\n",
        "etti_calculada[4] = r05\n",
        "\n",
        "# Imprime la etti_calculada\n",
        "for i in range(len(etti_calculada)):\n",
        "    print(f\"La ETTI del año {i+1} es {etti_calculada[i]:.2%}\")\n"
      ]
    },
    {
      "cell_type": "code",
      "source": [
        "import numpy_financial as npf\n",
        "#Fase 2: \n",
        "# DATOS\n",
        "nominal = 1000\n",
        "cupon = 0.1\n",
        "n = 5 # años\n",
        "r01 = 0.0417\n",
        "r02 = 0.052\n",
        "r03 = 0.0595\n",
        "r04 = 0.0726\n",
        "r05 = 0.0833\n",
        "etti = [r01,r02,r03,r04,r05]\n",
        "\n",
        "# FLUJOS DE CAJA\n",
        "flujos = [0]\n",
        "for i in range(1, n+1):\n",
        "    if i < n:\n",
        "        flujos.append(cupon * nominal)\n",
        "    elif i == n:\n",
        "        flujos.append(cupon * nominal + nominal)\n",
        "print(\"Flujos de caja: \", flujos)\n",
        "\n",
        "# PRECIO DEL BONO CON LA ETTI:\n",
        "precio = 0\n",
        "for i in range(1, n+1):\n",
        "    precio += flujos[i] / (1+etti[i-1])**i\n",
        "print(\"Precio del bono X:\", precio)\n",
        "bono = flujos[:]\n",
        "bono[0] = -precio\n",
        "\n",
        "# CALCULAR LA TIR DEL BONO:\n",
        "tir = npf.irr(bono)\n",
        "print(f\"La TIR del bono X es: {tir:.2%}\")"
      ],
      "metadata": {
        "colab": {
          "base_uri": "https://localhost:8080/"
        },
        "id": "V7Kq3YZWUl_z",
        "outputId": "fb59c608-ecf4-422b-bac6-afef977d986e"
      },
      "execution_count": 6,
      "outputs": [
        {
          "output_type": "stream",
          "name": "stdout",
          "text": [
            "Flujos de caja:  [0, 100.0, 100.0, 100.0, 100.0, 1100.0]\n",
            "Precio del bono X: 1083.2967179510038\n",
            "La TIR del bono X es: 7.92%\n"
          ]
        }
      ]
    }
  ]
}