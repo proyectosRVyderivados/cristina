{
  "nbformat": 4,
  "nbformat_minor": 0,
  "metadata": {
    "colab": {
      "name": "PrecioBono.ipynb",
      "provenance": [],
      "authorship_tag": "ABX9TyP+bxozhA9nf4IoeTz7QM0B",
      "include_colab_link": true
    },
    "kernelspec": {
      "name": "python3",
      "display_name": "Python 3"
    },
    "language_info": {
      "name": "python"
    }
  },
  "cells": [
    {
      "cell_type": "markdown",
      "metadata": {
        "id": "view-in-github",
        "colab_type": "text"
      },
      "source": [
        "<a href=\"https://colab.research.google.com/github/proyectosRVyderivados/cristina/blob/main/PrecioBono.ipynb\" target=\"_parent\"><img src=\"https://colab.research.google.com/assets/colab-badge.svg\" alt=\"Open In Colab\"/></a>"
      ]
    },
    {
      "cell_type": "code",
      "source": [
        "pip install numpy-financial"
      ],
      "metadata": {
        "colab": {
          "base_uri": "https://localhost:8080/"
        },
        "id": "ID4AyZBd9D_0",
        "outputId": "fcdf5425-29f5-4e94-9641-f5fd7eb85c35"
      },
      "execution_count": 2,
      "outputs": [
        {
          "output_type": "stream",
          "name": "stdout",
          "text": [
            "Collecting numpy-financial\n",
            "  Downloading numpy_financial-1.0.0-py3-none-any.whl (14 kB)\n",
            "Requirement already satisfied: numpy>=1.15 in /usr/local/lib/python3.7/dist-packages (from numpy-financial) (1.21.5)\n",
            "Installing collected packages: numpy-financial\n",
            "Successfully installed numpy-financial-1.0.0\n"
          ]
        }
      ]
    },
    {
      "cell_type": "markdown",
      "source": [
        "#Calcular el precio de un bono\n",
        "##Utilizando la TIR:\n",
        "Supongamos un bono con las siguientes características:\n",
        "\n",
        "* Nominal 1.000 €\n",
        "* Cupón anual 10%\n",
        "* Que madura el 5 año (n=5)\n",
        "* TIR: r = 8%\n",
        "\n",
        "Calcular el precio del bono\n",
        "Una vez conocido el precio del bono, comprobar que la TIR coincide con el dato proporcionado:"
      ],
      "metadata": {
        "id": "BxrIDhCZ7NJL"
      }
    },
    {
      "cell_type": "code",
      "source": [
        "import numpy_financial as npf\n",
        "\n",
        "# DATOS DEL BONO\n",
        "nominal = 1000\n",
        "cupon = 0.1\n",
        "n = 5  # años\n",
        "r = 0.08\n",
        "\n",
        "# FLUJOS DE CAJA\n",
        "flujos = [0]\n",
        "for i in range(1, n+1):\n",
        "    if i < n:\n",
        "        flujos.append(cupon * nominal)\n",
        "    elif i == n:\n",
        "        flujos.append(cupon * nominal + nominal)\n",
        "print(\"Flujos de caja: \", flujos)\n",
        "\n",
        "# PRECIO DEL BONO\n",
        "precio = 0\n",
        "for i in range(1, n+1):\n",
        "    precio += flujos[i] / (1+r)**i\n",
        "print(\"Precio del bono:\", precio)\n",
        "bono = flujos[:]\n",
        "bono[0] = -precio\n",
        "\n",
        "# COMPROBACIÓN TIR = r\n",
        "tir = npf.irr(bono)\n",
        "print(f\"La TIR del bono es: {tir:.2%}\")"
      ],
      "metadata": {
        "colab": {
          "base_uri": "https://localhost:8080/"
        },
        "id": "yMZfGpqN9QHU",
        "outputId": "7c101a2d-c86f-4819-b07e-01878e8c00ab"
      },
      "execution_count": 7,
      "outputs": [
        {
          "output_type": "stream",
          "name": "stdout",
          "text": [
            "Flujos de caja:  [0, 100.0, 100.0, 100.0, 100.0, 1100.0]\n",
            "Precio del bono: 1079.8542007415613\n",
            "La TIR del bono es: 8.00%\n"
          ]
        }
      ]
    },
    {
      "cell_type": "markdown",
      "source": [
        "#Utilizando la ETTI\n",
        "* Nominal 1.000 €\n",
        "* Cupón anual 10%\n",
        "* Madura al quinto año\n",
        "* La ETTI para los diferentes años es:\n",
        "  * año 1: 2%\n",
        "  * año 2: 4%\n",
        "  * año 3: 6%\n",
        "  * año 4: 8%\n",
        "  * año 5: 10%\n",
        "\n",
        "Se pide:\n",
        "* Calcular el precio del bono\n",
        "* Calcular la TIR"
      ],
      "metadata": {
        "id": "OeHWiwd2aVrJ"
      }
    },
    {
      "cell_type": "code",
      "source": [
        "import numpy_financial as npf\n",
        "\n",
        "# DATOS\n",
        "nominal = 1000\n",
        "cupon = 0.1\n",
        "n = 5 # años\n",
        "r01 = 0.02\n",
        "r02 = 0.04\n",
        "r03 = 0.06\n",
        "r04 = 0.08\n",
        "r05 = 0.10\n",
        "etti = [r01,r02,r03,r04,r05] #Podría poner directamente el vector.\n",
        "# FLUJOS DE CAJA\n",
        "flujos = [0]\n",
        "for i in range(1, n+1):\n",
        "    if i < n:\n",
        "        flujos.append(cupon * nominal)\n",
        "    elif i == n:\n",
        "        flujos.append(cupon * nominal + nominal)\n",
        "print(\"Flujos de caja: \", flujos)\n",
        "# PRECIO DEL BONO CON LA ETTI\n",
        "precio = 0\n",
        "for i in range(1, n+1):\n",
        "    precio += flujos[i] / (1+etti[i-1])**i #pongo el -1 para que me coja el primer puesto del vector.\n",
        "print(\"Precio del bono:\", precio)\n",
        "bono = flujos[:]\n",
        "bono[0] = -precio\n",
        "# CALCULAR LA TIR DEL BONO TIR = r\n",
        "tir = npf.irr(bono)\n",
        "print(f\"La TIR del bono es: {tir:.3%}\")  # Internal rate of return"
      ],
      "metadata": {
        "colab": {
          "base_uri": "https://localhost:8080/"
        },
        "id": "QBZw241sa2CM",
        "outputId": "a127f7af-26df-4dcd-916d-069360314b88"
      },
      "execution_count": 8,
      "outputs": [
        {
          "output_type": "stream",
          "name": "stdout",
          "text": [
            "Flujos de caja:  [0, 100.0, 100.0, 100.0, 100.0, 1100.0]\n",
            "Precio del bono: 1030.9732059359958\n",
            "La TIR del bono es: 9.200%\n"
          ]
        }
      ]
    }
  ]
}