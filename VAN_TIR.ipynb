{
  "nbformat": 4,
  "nbformat_minor": 0,
  "metadata": {
    "colab": {
      "name": "VAN_TIR.ipynb",
      "provenance": [],
      "authorship_tag": "ABX9TyPxK/LsNijgShx6RvuW3Fwx",
      "include_colab_link": true
    },
    "kernelspec": {
      "name": "python3",
      "display_name": "Python 3"
    },
    "language_info": {
      "name": "python"
    }
  },
  "cells": [
    {
      "cell_type": "markdown",
      "metadata": {
        "id": "view-in-github",
        "colab_type": "text"
      },
      "source": [
        "<a href=\"https://colab.research.google.com/github/proyectosRVyderivados/cristina/blob/main/VAN_TIR.ipynb\" target=\"_parent\"><img src=\"https://colab.research.google.com/assets/colab-badge.svg\" alt=\"Open In Colab\"/></a>"
      ]
    },
    {
      "cell_type": "code",
      "execution_count": 22,
      "metadata": {
        "colab": {
          "base_uri": "https://localhost:8080/"
        },
        "id": "lTY98AgnoQgV",
        "outputId": "ba7c1458-fd75-4dd5-994f-37e83eab7d15"
      },
      "outputs": [
        {
          "output_type": "stream",
          "name": "stdout",
          "text": [
            "Requirement already satisfied: numpy-financial in /usr/local/lib/python3.7/dist-packages (1.0.0)\n",
            "Requirement already satisfied: numpy>=1.15 in /usr/local/lib/python3.7/dist-packages (from numpy-financial) (1.21.5)\n"
          ]
        }
      ],
      "source": [
        "pip install numpy-financial #instalo libreria financiera."
      ]
    },
    {
      "cell_type": "markdown",
      "source": [
        "#VAN y TIR:\n",
        "* VAN = NPV\n",
        "* TIR = IRR\n",
        "\n",
        "Calcular el VAN y la TIR partiendo de los flujos de caja. (El guión bajo lo puedo utilizar como separador de miles).\n",
        "\n",
        "Flujos = [-desemboldo inicial, flujos que recibo] =  [-600_000, 100_000, 150_000, 200_000, 250_000, 300_000]\n",
        "\n",
        "Rentabilidad = tasa de descuento = r = 0.1 (hay que ponerlo con punto que es el separador anglosajón)\n",
        "\n",
        "\n"
      ],
      "metadata": {
        "id": "xCYZ0ULHoni9"
      }
    },
    {
      "cell_type": "code",
      "source": [
        "import numpy_financial as npf #importo libreria y pongo abreviatura (para esta librería será npf)\n",
        "cash_flows = [-600_000, 100_000, 150_000, 200_000, 250_000, 300_000]\n",
        "tasa_descuento = 0.1\n",
        "\n",
        "#VAN con libreria:\n",
        "van = npf.npv(tasa_descuento, cash_flows)\n",
        "print(f\"Valor actual neto ({tasa_descuento:.2%}) = {van:,.2f} €\")\n",
        "\n",
        "#TIR con libreria:\n",
        "tir = npf.irr(cash_flows)\n",
        "print(f\"TIR: {tir:.2%}\")\n"
      ],
      "metadata": {
        "colab": {
          "base_uri": "https://localhost:8080/"
        },
        "id": "a8nVVml-pT5i",
        "outputId": "68a62969-8d9a-4167-a19e-65e8c86de5c7"
      },
      "execution_count": 19,
      "outputs": [
        {
          "output_type": "stream",
          "name": "stdout",
          "text": [
            "Valor actual neto (10.00%) = 122,168.75 €\n",
            "TIR: 16.40%\n"
          ]
        }
      ]
    },
    {
      "cell_type": "code",
      "source": [
        "Desembolso_inicial = cash_flows[0]       # guardamos en una variable el desembolso inicial, que esta en la posición 0 de la lista.\n",
        "cash_flows[0] = 0                       # en la lista de cash flows hacemos cero el desembolso inicial\n",
        "van = Desembolso_inicial + npf.npv(tasa_descuento, cash_flows) \n",
        "print(f\"VAN({tasa_descuento:.2%}) = {van:,.2f} €\")                              # obtenemos el van esperado, ahora sin formato"
      ],
      "metadata": {
        "colab": {
          "base_uri": "https://localhost:8080/"
        },
        "id": "rHah9_cwtSdi",
        "outputId": "fde24df7-f971-468c-f3b9-fce1e013b176"
      },
      "execution_count": 20,
      "outputs": [
        {
          "output_type": "stream",
          "name": "stdout",
          "text": [
            "VAN(10.00%) = 122,168.75 €\n"
          ]
        }
      ]
    },
    {
      "cell_type": "markdown",
      "source": [
        "#Programar el VAN:\n",
        "En una lista: l=[10,20,30]\n",
        "\n",
        "        posición:  0  1  2\n",
        "Vamor a hacer la función que se hará primero, luego pondremos los parámetros y finalmente nos devolverá la solución.\n"
      ],
      "metadata": {
        "id": "prDbtLG1rzZr"
      }
    },
    {
      "cell_type": "code",
      "source": [
        "#función:\n",
        "def van(tasa, flujos):\n",
        "    total = 0\n",
        "    for i, flujo in enumerate(flujos):\n",
        "        total += flujo / (1 + tasa)**(i)\n",
        "    return total \n",
        "#Pongo los parámetros:\n",
        "tasa = 0.1\n",
        "flujos = [-600_000, 100_000, 150_000, 200_000, 250_000, 300_000]\n",
        "#Imprimo el resultado:\n",
        "print(f\"VAN = {van(tasa, flujos):,.2f} €\")"
      ],
      "metadata": {
        "colab": {
          "base_uri": "https://localhost:8080/"
        },
        "id": "ts3yn1T5sIFQ",
        "outputId": "d0074ac5-2c53-4c7d-fbd6-0394fa8e7e1d"
      },
      "execution_count": 21,
      "outputs": [
        {
          "output_type": "stream",
          "name": "stdout",
          "text": [
            "VAN = 122,168.75 €\n"
          ]
        }
      ]
    },
    {
      "cell_type": "markdown",
      "source": [
        "#Función Pago (pmt) \n",
        "Préstamo de tipo francés.\n",
        "npf.pmt(rate, nper, pv, fv, when = ‘end’)\n",
        "\n",
        "rate: tipo de interes\n",
        "\n",
        "nper: número periodos\n",
        "\n",
        "pv: desembolso inicial\n",
        "\n",
        "fv: el valor residual o final que tienes que pagar para liquidar el prestamo\n",
        "\n",
        "when =: (pospagable) 'end'\n",
        "\n",
        "* Calcular el pago mensual periódico necesario para amortizar un préstamo de 350.000 €, a 20 años, al 6% TIN (Tipo de Interés Nominal) con Excel: =PAGO(6%/12;20*12;-350000)"
      ],
      "metadata": {
        "id": "PIg38PZav-WR"
      }
    },
    {
      "cell_type": "code",
      "source": [
        "#importo librería\n",
        "import numpy_financial as npf\n",
        "\n",
        "pago = npf.pmt(0.06/12, 20 * 12, 350_000)\n",
        "print(f\"Pago mensual: {-pago:,.2f} €\" )\n"
      ],
      "metadata": {
        "colab": {
          "base_uri": "https://localhost:8080/"
        },
        "id": "Oe3sFUns4I36",
        "outputId": "82b854d3-1586-42a0-bcd4-d54fd5bb8a8d"
      },
      "execution_count": 24,
      "outputs": [
        {
          "output_type": "stream",
          "name": "stdout",
          "text": [
            "Pago mensual: 2,507.51 €\n"
          ]
        }
      ]
    }
  ]
}