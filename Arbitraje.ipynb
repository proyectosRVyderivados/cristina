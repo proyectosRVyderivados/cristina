{
  "nbformat": 4,
  "nbformat_minor": 0,
  "metadata": {
    "colab": {
      "name": "Arbitraje.ipynb",
      "provenance": [],
      "authorship_tag": "ABX9TyMSlj7NbqfYPYP7eLItYZMt",
      "include_colab_link": true
    },
    "kernelspec": {
      "name": "python3",
      "display_name": "Python 3"
    },
    "language_info": {
      "name": "python"
    }
  },
  "cells": [
    {
      "cell_type": "markdown",
      "metadata": {
        "id": "view-in-github",
        "colab_type": "text"
      },
      "source": [
        "<a href=\"https://colab.research.google.com/github/proyectosRVyderivados/cristina/blob/main/Arbitraje.ipynb\" target=\"_parent\"><img src=\"https://colab.research.google.com/assets/colab-badge.svg\" alt=\"Open In Colab\"/></a>"
      ]
    },
    {
      "cell_type": "code",
      "source": [
        "pip install numpy-financial"
      ],
      "metadata": {
        "colab": {
          "base_uri": "https://localhost:8080/"
        },
        "id": "lKR7k5rmwQKK",
        "outputId": "5e12a9cc-4bb5-43d2-8bd7-67738c43732c"
      },
      "execution_count": 1,
      "outputs": [
        {
          "output_type": "stream",
          "name": "stdout",
          "text": [
            "Collecting numpy-financial\n",
            "  Downloading numpy_financial-1.0.0-py3-none-any.whl (14 kB)\n",
            "Requirement already satisfied: numpy>=1.15 in /usr/local/lib/python3.7/dist-packages (from numpy-financial) (1.21.5)\n",
            "Installing collected packages: numpy-financial\n",
            "Successfully installed numpy-financial-1.0.0\n"
          ]
        }
      ]
    },
    {
      "cell_type": "markdown",
      "source": [
        "# Arbitraje en el mercado de bonos\n",
        "Disponemos de dos bonos que maduran a dos años, ambos de cupón explícito y con diferente duración de Macaulay (*duration*).\n",
        "* El bono A tiene un cupón anual de 10 € y nominal de 1.000 €.\n",
        "* El bono B tiene un cupón anual de 200 € y nominal de 1.000 €.\n",
        "* Conocemos la ETTI a un año (5%) y a dos años (20%).\n",
        "* Supongamos que en el mercado los inversores compran el bono A que es el de mayor TIR y desprecian el bono B. La presión de las compras hace que el precio del bono A suba, haciendo que su TIR baje hasta llegar a coincidir con la del bono B.\n",
        "\n",
        "Se pide:  \n",
        "* Calcular el precio de los bonos A y B\n",
        "* Calcular la TIR de los bonos A y B\n",
        "* Calcular la *duratin* de ambos bonos\n",
        "* Ante este mercado desequilibrado:\n",
        " - calcular el nuevo precio que tendrá el bono A\n",
        " - establecer la estrategia de arbitraje que permitiría obtener ventaja\n",
        " - determinar el beneficio obtenido por el arbitraje y en que instante se produciría.\n",
        "\n"
      ],
      "metadata": {
        "id": "TWdCtSHZuA0O"
      }
    },
    {
      "cell_type": "code",
      "source": [
        "import numpy_financial as npf\n",
        "import numpy as np\n",
        "# DATOS\n",
        "bonoA = [0, 10, 1010]\n",
        "bonoB = [0, 200, 1200]\n",
        "etti = [.05, .2]\n",
        "\n",
        "# PRECIO DE UN BONO CON LA ETTI\n",
        "def precio_etti(flujos, etti):\n",
        "    precio = 0\n",
        "    for i in range(1, len(bonoA)):\n",
        "        precio += flujos[i] * (1+etti[i-1])**-i\n",
        "    return precio\n",
        "# Precios de los Bonos A y B\n",
        "precioA = precio_etti(bonoA, etti)\n",
        "precioB = precio_etti(bonoB, etti)\n",
        "print(f\"El precio del bono A es {precioA}\")\n",
        "print(f\"El precio del bono B es {precioB}\")\n",
        "# Flujos de caja de los bonos A y B\n",
        "bonoA[0] = -precioA\n",
        "bonoB[0] = -precioB\n",
        "# Calcular la TIR de los bonos\n",
        "tirA = npf.irr(bonoA)\n",
        "tirB = npf.irr(bonoB)\n",
        "print(f\"La TIR del bono A es: {tirA:.4%}\")\n",
        "print(f\"La TIR del bono B es: {tirB:.4%}\")\n",
        "\n",
        "# Calcular la duración de Macaulay\n",
        "def duracion(bono):\n",
        "    tir =npf.irr(bono)\n",
        "    precio = 0\n",
        "    numerador = 0\n",
        "    for i in range(1, len(bonoA)):\n",
        "        precio += bono[i] * (1+tir)**-i\n",
        "        numerador += i * bono[i] * (1+tir)**-i\n",
        "    return numerador / precio\n",
        "\n",
        "print(f\"La duration del bono A es {duracion(bonoA)}\")\n",
        "print(f\"La duration del bono B es {duracion(bonoB)}\")\n",
        "\n",
        "# Nuevo precio del bono A en el mercado desequilibrado\n",
        "precioAprima = npf.npv(tirB, bonoA) + precioA # sumamos el antiguo precio de A ya que va en la posición [0] del array con signo negativo\n",
        "print(f\"El nuevo precio del bono A en el mercado desequilibrado es {precioAprima:.7}\")\n",
        "bonoAprima =[-precioAprima, bonoA[1], bonoA[2]]\n",
        "print(bonoAprima)\n",
        "\n",
        "# Bono C = B - 20A'\n",
        "# bonoC = bonoB - 20 * bonoAprima  # esto da error, necesitamos trabajar con ndarrays\n",
        "bonoB_arr = np.array(bonoB)\n",
        "bonoAprima_arr =np.array(bonoAprima)\n",
        "bonoC_arr = bonoB_arr - 20 * bonoAprima_arr\n",
        "print(f\"El bono C es {bonoC_arr}\")\n",
        "# Ajustamos con un préstamo\n",
        "prestamo = np.array([bonoC_arr[2] / (1+etti[1])**2, 0, -bonoC_arr[2]])\n",
        "print(f\"El préstamo es {prestamo}\")\n",
        "# Cartera Total\n",
        "total = bonoC_arr + prestamo\n",
        "print(f\"Cartera resultante del arbitraje {total}\")"
      ],
      "metadata": {
        "colab": {
          "base_uri": "https://localhost:8080/"
        },
        "id": "U18gkyqDwObB",
        "outputId": "dede30ac-cc05-4118-c5fe-4aa260e0df02"
      },
      "execution_count": 7,
      "outputs": [
        {
          "output_type": "stream",
          "name": "stdout",
          "text": [
            "El precio del bono A es 710.9126984126985\n",
            "El precio del bono B es 1023.809523809524\n",
            "La TIR del bono A es: 19.8989%\n",
            "La TIR del bono B es: 18.4704%\n",
            "La duration del bono A es 1.988268094271526\n",
            "La duration del bono B es 1.8351074725250018\n",
            "El nuevo precio del bono A en el mercado desequilibrado es 728.0583\n",
            "[-728.0583383461574, 10, 1010]\n",
            "El bono C es [ 13537.35724311      0.         -19000.        ]\n",
            "El préstamo es [-13194.44444444      0.          19000.        ]\n",
            "Cartera resultante del arbitraje [342.91279867   0.           0.        ]\n"
          ]
        }
      ]
    }
  ]
}