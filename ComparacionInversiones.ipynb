{
  "nbformat": 4,
  "nbformat_minor": 0,
  "metadata": {
    "colab": {
      "name": "ComparacionInversiones.ipynb",
      "provenance": [],
      "authorship_tag": "ABX9TyOrk1bkiaSn6L+hHfKCD8/E",
      "include_colab_link": true
    },
    "kernelspec": {
      "name": "python3",
      "display_name": "Python 3"
    },
    "language_info": {
      "name": "python"
    }
  },
  "cells": [
    {
      "cell_type": "markdown",
      "metadata": {
        "id": "view-in-github",
        "colab_type": "text"
      },
      "source": [
        "<a href=\"https://colab.research.google.com/github/proyectosRVyderivados/cristina/blob/main/ComparacionInversiones.ipynb\" target=\"_parent\"><img src=\"https://colab.research.google.com/assets/colab-badge.svg\" alt=\"Open In Colab\"/></a>"
      ]
    },
    {
      "cell_type": "code",
      "execution_count": 2,
      "metadata": {
        "colab": {
          "base_uri": "https://localhost:8080/"
        },
        "id": "vQjzqWORjfjz",
        "outputId": "1ffca2ed-999e-4b3c-9296-80a4329c7aa3"
      },
      "outputs": [
        {
          "output_type": "stream",
          "name": "stdout",
          "text": [
            "Collecting numpy-financial\n",
            "  Downloading numpy_financial-1.0.0-py3-none-any.whl (14 kB)\n",
            "Requirement already satisfied: numpy>=1.15 in /usr/local/lib/python3.7/dist-packages (from numpy-financial) (1.21.5)\n",
            "Installing collected packages: numpy-financial\n",
            "Successfully installed numpy-financial-1.0.0\n"
          ]
        }
      ],
      "source": [
        "pip install numpy-financial"
      ]
    },
    {
      "cell_type": "markdown",
      "source": [
        "#Comparación entre una inversión cierta y otra aleatoria\n",
        "Comparemos dos inversiones A y B, ambas de duración 1 año y que proporcionan ambas un 10% anual, con una inversión de un millón de euros cada una. La inversión A es cierta, esto supone que existe un 100% de probabilidad de que el flujo de caja final sea 1.100.000 €. La inversión B, tiene una probabilidad del 1% de que el montante final sea m1, y una probabilidad del 99% de que el montante final sea m2.\n",
        "Se pide:\n",
        "\n",
        "* Caso 1: si m1 = 0, calcular m2, para que la rentabilidad esperada de la inversión B sea del 10%\n",
        "* Caso 2: si m1 = 500.000, calcular m2, para que la rentabildidad esperada de B sea el 10%\n",
        "  * Comprobar que la TIR de ambas inversiones es del 10%"
      ],
      "metadata": {
        "id": "D53gUdpgjrjV"
      }
    },
    {
      "cell_type": "code",
      "source": [
        "import numpy_financial as npf\n",
        "\n",
        "# DATOS\n",
        "c = 1_000_000 # capital inicial\n",
        "r = .1 # rentabilidad 10% anual\n",
        "mA = c*(1+r) # Montante A: el montante de la inversión A es 1.100.000\n",
        "p = .01 # probabilidad de que suceda una de las ramas de la inverión B\n",
        "q = 1-p # probabilidad complementaria de la otra rama de B, se cumple que p+q=1\n",
        "\n",
        "# Cálculo de mb2\n",
        "# El montante de la inversión B es mb y tiene dos componentes mb1 + mb2 = mb\n",
        "def mb_2(mA,p,mb1): #pongo mA ya que el montante final esperado tambien tiene que ser 1.100.000€\n",
        "    return (mA - p * mb1) / q\n",
        "\n",
        "# Resultados\n",
        "print(\"CASO 1\")\n",
        "mb1 = 500_000 # primer caso que nos piden\n",
        "mb2 = mb_2(mA,p,mb1)\n",
        "print(f\"Si el montante alcanzado con mb1 es {mb1:,} entonces el montante mb2 es {mb2:,.2f}\")\n",
        "print(f\"La TIR de la inversión B1 es: {npf.irr([-c,mb1]):.1%}\")\n",
        "print(f\"La TIR de la inversión B2 es: {npf.irr([-c,mb2]):.2%}\")\n",
        "print(f\"La TIR de la inversión A es: {npf.irr([-c, mA]):.1%}\")          # comprobar que ambas TIR son del 10%\n",
        "print(f\"La TIR de la inversión B es: {npf.irr([-c, p*mb1+q*mb2]):.1%}\") # comprobar que ambas TIR son del 10%\n",
        "print()\n",
        "\n",
        "print(\"CASO 2\")\n",
        "mb1 = 0       # segundo caso que nos piden\n",
        "mb2 = mb_2(mA,p,mb1)\n",
        "print(f\"Si el montante alcanzado con mb1 es {mb1} entonces el montante mb2 es {mb2:,.2f}\")\n",
        "print(f\"La TIR de la inversión B1 es: {npf.irr([-c,mb1]):.1%}\")\n",
        "print(f\"La TIR de la inversión B2 es: {npf.irr([-c,mb2]):.2%}\")\n",
        "print(f\"La TIR de la inversión A es: {npf.irr([-c, mA]):.1%}\")          # comprobar que ambas TIR son del 10%\n",
        "print(f\"La TIR de la inversión B es: {npf.irr([-c, p*mb1+q*mb2]):.1%}\") # comprobar que ambas TIR son del 10%"
      ],
      "metadata": {
        "colab": {
          "base_uri": "https://localhost:8080/"
        },
        "id": "U_GUmTV5kAaU",
        "outputId": "56316572-de48-4b8b-cfbd-5b1259407fc9"
      },
      "execution_count": 5,
      "outputs": [
        {
          "output_type": "stream",
          "name": "stdout",
          "text": [
            "CASO 1\n",
            "Si el montante alcanzado con mb1 es 500,000 entonces el montante mb2 es 1,106,060.61\n",
            "La TIR de la inversión B1 es: -50.0%\n",
            "La TIR de la inversión B2 es: 10.61%\n",
            "La TIR de la inversión A es: 10.0%\n",
            "La TIR de la inversión B es: 10.0%\n",
            "\n",
            "CASO 2\n",
            "Si el montante alcanzado con mb1 es 0 entonces el montante mb2 es 1,111,111.11\n",
            "La TIR de la inversión B1 es: nan%\n",
            "La TIR de la inversión B2 es: 11.11%\n",
            "La TIR de la inversión A es: 10.0%\n",
            "La TIR de la inversión B es: 10.0%\n"
          ]
        }
      ]
    }
  ]
}