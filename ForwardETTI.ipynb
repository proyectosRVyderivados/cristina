{
  "nbformat": 4,
  "nbformat_minor": 0,
  "metadata": {
    "colab": {
      "name": "ForwardETTI.ipynb",
      "provenance": [],
      "authorship_tag": "ABX9TyOb+aMJLUVikkg+LkTjbaVN",
      "include_colab_link": true
    },
    "kernelspec": {
      "name": "python3",
      "display_name": "Python 3"
    },
    "language_info": {
      "name": "python"
    }
  },
  "cells": [
    {
      "cell_type": "markdown",
      "metadata": {
        "id": "view-in-github",
        "colab_type": "text"
      },
      "source": [
        "<a href=\"https://colab.research.google.com/github/proyectosRVyderivados/cristina/blob/main/ForwardETTI.ipynb\" target=\"_parent\"><img src=\"https://colab.research.google.com/assets/colab-badge.svg\" alt=\"Open In Colab\"/></a>"
      ]
    },
    {
      "cell_type": "code",
      "execution_count": 2,
      "metadata": {
        "colab": {
          "base_uri": "https://localhost:8080/"
        },
        "id": "0eUkhg7YmNb0",
        "outputId": "64c8833f-2013-463e-b17e-edc557253f3d"
      },
      "outputs": [
        {
          "output_type": "stream",
          "name": "stdout",
          "text": [
            "Collecting numpy-financial\n",
            "  Downloading numpy_financial-1.0.0-py3-none-any.whl (14 kB)\n",
            "Requirement already satisfied: numpy>=1.15 in /usr/local/lib/python3.7/dist-packages (from numpy-financial) (1.21.5)\n",
            "Installing collected packages: numpy-financial\n",
            "Successfully installed numpy-financial-1.0.0\n"
          ]
        }
      ],
      "source": [
        "pip install numpy-financial"
      ]
    },
    {
      "cell_type": "markdown",
      "source": [
        "#Forward $r_{12}$ conocidos dos bonos\n",
        "En el mercado cotizan los bonos A y B.\n",
        "* El bono A es un bono cupón cero de duración un año y TIR del 10%\n",
        "* El bono B es un bono cupón explícito de 4.400 € anuales,  nominal 10.000 €, duración 2 años y precio de 14.000 €\n",
        "* El bono C es un bono cupón cero a dos años, que se obtiene como bono sintético combinando los bonos A y B\n",
        "\n",
        "Se pide:\n",
        "* Calcular la TIR del bono C\n",
        "* Comprobar que la TIR del bono C es el punto de la ETTI a dos años ($r_{02}$). Para hacer la comprobación calcular con la ETTI los precios de los bonos A, B y C y comprobar que coinciden con los previstos.\n",
        "* Comprobar que el nominal elegido para el bono A puede ser cualquiera, es arbitrario."
      ],
      "metadata": {
        "id": "qI9ytKZZmOoN"
      }
    },
    {
      "cell_type": "code",
      "source": [
        "import numpy_financial as npf\n",
        "from random import randint, seed\n",
        "seed()\n",
        "\n",
        "# DATOS\n",
        "tirA = .1\n",
        "cuponB = 4_400\n",
        "nominalB = 10_000\n",
        "precioB = 14_000\n",
        "nominalA = randint(1,10000)\n",
        "print(f\"El nominal elegido para el bono A es {nominalA}\")\n",
        "\n",
        "# FLUJOS DE CAJA bonos A y B\n",
        "bonoB = [-precioB, cuponB, cuponB+nominalB]\n",
        "bonoA = [-nominalA/(1+tirA), nominalA, 0]    # añadimos un flujo 0 en t=2 por comodidad, para luego restar flujos\n",
        "m = bonoB[1]/bonoA[1]\n",
        "print(f\"El multiplicador m es {m}\")\n",
        "bonoC = [bonoB[0]-m*bonoA[0], bonoB[1]-m*bonoA[1], bonoB[2]-m*bonoA[2]]\n",
        "print(\"Bono C: \", bonoC)\n",
        "\n",
        "# TIR del bono C\n",
        "tirC = npf.irr(bonoC)\n",
        "print(f\"La TIR del bono C es: {tirC:.6%}\")\n",
        "\n",
        "# Creación de la ETTI\n",
        "etti = [tirA, tirC] # la tirC si pertenece a la ETTI por ser un bono cupón cero, pero la tirB no pertenece\n",
        "r01=etti[0]\n",
        "r02=etti[1]\n",
        "print(f\"r01: {r01:.1%}\")\n",
        "print(f\"r02: {r02:.1%}\")\n",
        "# COMPROBAR PRECIOS CON LA ETTI\n",
        "def precio_etti(flujos, etti):\n",
        "    precio = 0\n",
        "    for i in range(1, len(flujos)):\n",
        "        precio += flujos[i] * (1+etti[i-1])**-i\n",
        "    return precio\n",
        "# Precios de los Bonos A, B y C\n",
        "precioA = precio_etti(bonoA, etti)\n",
        "precioB = precio_etti(bonoB, etti)\n",
        "precioC = precio_etti(bonoC, etti)\n",
        "print(f\"La diferencia de precios en el bono A es {precioA+bonoA[0]}\")\n",
        "print(f\"La diferencia de precios en el bono B es {precioB+bonoB[0]}\")\n",
        "print(f\"La diferencia de precios en el bono C es {precioC+bonoC[0]}\")"
      ],
      "metadata": {
        "colab": {
          "base_uri": "https://localhost:8080/"
        },
        "id": "3s9DckoCm-X4",
        "outputId": "efb601ba-65b3-447b-b7b8-9ce5bce2b330"
      },
      "execution_count": null,
      "outputs": [
        {
          "output_type": "stream",
          "name": "stdout",
          "text": [
            "El nominal elegido para el bono A es 8212\n",
            "El multiplicador m es 0.535801266439357\n",
            "Bono C:  [-10000.0, 0.0, 14400.0]\n",
            "La TIR del bono C es: 20.000000%\n",
            "r01: 10.0%\n",
            "r02: 20.0%\n",
            "La diferencia de precios en el bono A es 0.0\n",
            "La diferencia de precios en el bono B es -3.637978807091713e-12\n",
            "La diferencia de precios en el bono C es -3.637978807091713e-12\n"
          ]
        }
      ]
    },
    {
      "cell_type": "markdown",
      "source": [
        "#Calcular la ETTI con una cartera de tres bonos:\n",
        "### FASE 1\n",
        "En el mercado cotizan los bonos A , B y C.\n",
        "* El bono A es un bono cupón cero a un año de nominal 1.000 € y TIR del 10%\n",
        "* El bono B es un bono cupón explícito de 90 € anuales,  nominal 1.000 € y duración 2 años\n",
        "* El bono C es un bono cupón explícito de 500 € anuales, nominal 1.000 € y duración 3 años\n",
        "* Conocemos la ETTI a 1, 2 y 3 años que es 10%, 20% y 30%, respectivamente  \n",
        "\n",
        "Se pide:\n",
        "* Calcular los precios de los bonos A, B y C\n",
        "* Calcular la TIR de los bonos A, B y C\n",
        "\n",
        "### FASE 2\n",
        "Supongamos conocidos los flujos de caja de los bonos A, B y C incluidos sus precios.  \n",
        "\n",
        "Se pide:\n",
        "* **Calcular la ETTI de los años 1, 2 y 3.**"
      ],
      "metadata": {
        "id": "nA3pTFKIpncR"
      }
    },
    {
      "cell_type": "code",
      "source": [
        "import numpy_financial as npf\n",
        "\n",
        "#####   FASE 1   #####\n",
        "# Flujos de caja de los bonos\n",
        "bonoA = [0,1000,0,0]     # inicialmente el flujo de caja inicial es cero\n",
        "bonoB = [0,90,1090,0]     #pongo ya directamente los flujos de caja\n",
        "bonoC = [0,500,500,1500]\n",
        "\n",
        "# Calcular el precio de los bonos dada la ETTI\n",
        "etti = [.1, .2, .3]\n",
        "def precio_etti(flujos, etti):\n",
        "    precio = 0\n",
        "    for i in range(1, len(flujos)):\n",
        "        precio += flujos[i] * (1+etti[i-1])**-i\n",
        "    return precio\n",
        "\n",
        "precioA = precio_etti(bonoA, etti)\n",
        "precioB = precio_etti(bonoB, etti)\n",
        "precioC = precio_etti(bonoC, etti)\n",
        "print(f\"El precio del bono A es {precioA:,.2f} €\")\n",
        "print(f\"El precio del bono B es {precioB:,.2f} €\")\n",
        "print(f\"El precio del bono C es {precioC:,.2f} €\")\n",
        "print()\n",
        "\n",
        "#Calcular la TIR de los bonos:\n",
        "bonoA[0] = -precioA\n",
        "bonoB[0] = -precioB\n",
        "bonoC[0] = -precioC\n",
        "\n",
        "tirA = npf.irr(bonoA)\n",
        "tirB = npf.irr(bonoB)\n",
        "tirC = npf.irr(bonoC)\n",
        "\n",
        "print(f\"La TIR del bono A es: {tirA:.2%}\")\n",
        "print(f\"La TIR del bono B es: {tirB:.2%}\")\n",
        "print(f\"La TIR del bono C es: {tirC:.2%}\")\n",
        "print()\n",
        "\n",
        "#####   FASE 2   #####\n",
        "etti_calculada = [0,0,0]  # inicializamos el array, donde se guardaran los resultados de la ETTI.\n",
        "etti_calculada[0] = tirA  # la ETTI del año 1 es la TIR del bono A por ser un bono cupón cero a un año\n",
        "def calcula_etti(bono, etti_calculada):\n",
        "    n = [i for i, e in enumerate(bono) if e != 0][-1] # Para calcular n\n",
        "    ultimo_flujo = bono[n]\n",
        "    precio = -bono[0]\n",
        "    fcid = 0 # inicializamos los flujos de caja intermedios descontados\n",
        "    for t in range(1,n): # recorre los flujos de caja intermedios\n",
        "        fcid += bono[t] / (1+etti[t-1])**t\n",
        "    return (ultimo_flujo / (precio - fcid))**(1/n)-1\n",
        "r02 = calcula_etti(bonoB, etti_calculada) # calculamos r02 conocido el bono B y r01\n",
        "etti_calculada[1] = r02\n",
        "\n",
        "r03 = calcula_etti(bonoC, etti_calculada) # calculamos r03 conocido el bono C, r01 y r02\n",
        "etti_calculada[2] = r03\n",
        "\n",
        "# Imprime la etti_calculada\n",
        "for i in range(len(etti_calculada)):\n",
        "    print(f\"La ETTI del año {i+1} es {etti_calculada[i]:.2%}\")"
      ],
      "metadata": {
        "colab": {
          "base_uri": "https://localhost:8080/"
        },
        "id": "PFlF7W32pnM2",
        "outputId": "8a190859-1b78-4caa-dd6e-eec89b60562d"
      },
      "execution_count": null,
      "outputs": [
        {
          "output_type": "stream",
          "name": "stdout",
          "text": [
            "El precio del bono A es 909.09 €\n",
            "El precio del bono B es 838.76 €\n",
            "El precio del bono C es 1,484.52 €\n",
            "\n",
            "La TIR del bono A es: 10.00%\n",
            "La TIR del bono B es: 19.49%\n",
            "La TIR del bono C es: 25.13%\n",
            "\n",
            "La ETTI del año 1 es 10.00%\n",
            "La ETTI del año 2 es 20.00%\n",
            "La ETTI del año 3 es 30.00%\n"
          ]
        }
      ]
    },
    {
      "cell_type": "markdown",
      "source": [
        "# Forward implícito\n",
        "En el mercado están disponibles los siguientes bonos:\n",
        "* Bono A: Letra del Tesoro de duración un año y precio de adquisición 933 €\n",
        "* Bono B: Bono cupón explícito del 7% y duración 2 años que se adquiere con un descuento del 2% sobre el nominal.\n",
        "\n",
        "Se pide:\n",
        "* Determinar el tipo de interés forward implícito para el periodo que se inicia en t=1 y finaliza en t=2 años, $r_{12}$.\n",
        "* Calcular $r_{02}$\n",
        "* Calcular nuevamente $r_{12}$ utilizando para ello el valor de $r_{02}$ anteriormente calculado\n",
        "* Comprobar que el forward $r_{12}$ coincide por ambos métodos\n",
        "$$ (1+r_{02})^2 = (1+r_{01}) (1+r_{12}) $$"
      ],
      "metadata": {
        "id": "nv8R4wv1zmhC"
      }
    },
    {
      "cell_type": "code",
      "source": [
        "import numpy_financial as npf\n",
        "import numpy as np\n",
        "\n",
        "##############       MÉTODO 1       ##############\n",
        "\n",
        "# DATOS   \n",
        "bonoA = np.array([-933, 1000, 0])\n",
        "bonoB = np.array([-98, 7, 107])\n",
        "\n",
        "# Bono C\n",
        "bonoC = np.array([0,0,0])        # inicializamos el ndarray\n",
        "bonoC = bonoA[0]*bonoB - bonoB[0]*bonoA\n",
        "print(f\"Bono C: {bonoC}\")\n",
        "# Forward r12\n",
        "r12 = npf.irr(bonoC)\n",
        "print(f\"MÉTODO 1: el forward r12 es {r12:.4%}\")\n",
        "\n",
        "##############       MÉTODO 2       ##############\n",
        "\n",
        "# Bono D\n",
        "bonoD = np.array([0,0,0])        # inicializamos el ndarray\n",
        "bonoD = bonoA[1]*bonoB - bonoB[1]*bonoA\n",
        "print(f\"Bono D: {bonoD}\")\n",
        "\n",
        "# ETTI a dos años r02\n",
        "r02 = npf.irr(bonoD)\n",
        "print(f\"La ETTI a dos años es r02 = {r02:.4%}\")\n",
        "\n",
        "# TIR del Bono A (r01)\n",
        "r01 = npf.irr(bonoA)\n",
        "print(f\"La TIR del bono A es r01 = {r01:.4%}\")\n",
        "\n",
        "##############      COMPROBACIÓN      ##############\n",
        "\n",
        "# Comprobación r12 = r12_bis\n",
        "r12_bis = (1+r02)**2 / (1+r01) -1\n",
        "print(f\"MÉTODO 2: el forward r12 es {r12_bis:.4%}\")\n",
        "print(f\"La diferencia de r12 por ambos métodos es {abs(r12 - r12_bis)}\")"
      ],
      "metadata": {
        "colab": {
          "base_uri": "https://localhost:8080/"
        },
        "id": "PAR5LwvK0Br9",
        "outputId": "d6033c65-2d75-46cc-8b10-b6570acc3437"
      },
      "execution_count": 4,
      "outputs": [
        {
          "output_type": "stream",
          "name": "stdout",
          "text": [
            "Bono C: [     0  91469 -99831]\n",
            "MÉTODO 1: el forward r12 es 9.1419%\n",
            "Bono D: [-91469      0 107000]\n",
            "La ETTI a dos años es r02 = 8.1571%\n",
            "La TIR del bono A es r01 = 7.1811%\n",
            "MÉTODO 2: el forward r12 es 9.1419%\n",
            "La diferencia de r12 por ambos métodos es 0.0\n"
          ]
        }
      ]
    },
    {
      "cell_type": "markdown",
      "source": [
        "# Cálculo de un tipo Forward $r_{23}$\n",
        "En un mercado de renta fija cotizan los siguienes bonos:\n",
        "* Bono A: es un bono cupón cero a un año que se adquiere por 100 y se amortiza por 110\n",
        "* Bono B: es un bono cupón cero a dos años con TIR del 9% y precio de adquisición de 500 €\n",
        "* Bono C: es un bono cupón cero a tres años con TIR del 8% y nominal de 1.000 €  \n",
        "\n",
        "Se pide:\n",
        "* Calcular el tipo de interés forward implícito en el mercado: $r_{23}$"
      ],
      "metadata": {
        "id": "i5XGEYWJ1EcD"
      }
    },
    {
      "cell_type": "code",
      "source": [
        "import numpy_financial as npf\n",
        "import numpy as np\n",
        "\n",
        "# DATOS   \n",
        "bonoA = np.array([-100, 110, 0, 0])\n",
        "bonoB = np.array([-500, 0, 500*1.09**2, 0])  # la TIR del bono B es del 9%\n",
        "bonoC = np.array([-1000/1.08**3, 0, 0, 1000])\n",
        "\n",
        "print(f\"Bono A: {bonoA}\")\n",
        "print(f\"Bono B: {bonoB}\")\n",
        "print(f\"Bono C: {bonoC}\")\n",
        "\n",
        "##############       MÉTODO 1       ##############\n",
        "\n",
        "bonoD = np.ndarray([0,0,0,0])\n",
        "bonoD = -bonoC[0] * bonoB + bonoB[0] * bonoC\n",
        "print(f\"Bono D: {bonoD}\")\n",
        "tirD = npf.irr(bonoD)\n",
        "print(f\"Método 1: el forward r23 es {tirD:.5%}\")\n",
        "\n",
        "##############       MÉTODO 2       ##############\n",
        "r23 = (1+0.08)**3 / (1+0.09)**2 -1\n",
        "print(f\"Método 2: el forward r23 es {r23:.5%}\")"
      ],
      "metadata": {
        "id": "obV3hx2e1sQc",
        "outputId": "3f98995c-c48f-4703-bb1c-900835168a2e",
        "colab": {
          "base_uri": "https://localhost:8080/"
        }
      },
      "execution_count": 6,
      "outputs": [
        {
          "output_type": "stream",
          "name": "stdout",
          "text": [
            "Bono A: [-100  110    0    0]\n",
            "Bono B: [-500.      0.    594.05    0.  ]\n",
            "Bono C: [-793.83224102    0.            0.         1000.        ]\n",
            "Bono D: [      0.               0.          471576.04277803 -500000.        ]\n",
            "Método 1: el forward r23 es 6.02744%\n",
            "Método 2: el forward r23 es 6.02744%\n"
          ]
        }
      ]
    }
  ]
}